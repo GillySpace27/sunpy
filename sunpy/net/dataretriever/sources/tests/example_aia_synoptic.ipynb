{
 "cells": [
  {
   "cell_type": "code",
   "execution_count": null,
   "metadata": {},
   "outputs": [],
   "source": [
    "from sunpy.net import Fido\n",
    "from sunpy.net import attrs as a\n",
    "import astropy.units as u"
   ]
  },
  {
   "cell_type": "code",
   "execution_count": null,
   "metadata": {},
   "outputs": [],
   "source": [
    "# Example usage\n",
    "time_range = a.Time(\"2013-10-30 00:00:00\", \"2013-11-01 00:00:00\")\n",
    "instrument = a.Instrument(\"AIASynoptic\")\n",
    "wavelength = a.Wavelength(171 * u.angstrom)\n",
    "# sample = a.Sample(10 * u.minute)\n",
    "results = Fido.search(time_range, instrument, wavelength)  # , wavelength)\n",
    "\n",
    "print(results)\n",
    "\n"
   ]
  },
  {
   "cell_type": "code",
   "execution_count": null,
   "metadata": {},
   "outputs": [],
   "source": [
    "import os\n",
    "the_path = \"~/vscode/DLData/Halloween/{file}\"\n",
    "the_path = os.path.expanduser(the_path)\n",
    "print(f\"Downloading to: {the_path}\")\n"
   ]
  },
  {
   "cell_type": "code",
   "execution_count": null,
   "metadata": {},
   "outputs": [],
   "source": [
    "Fido.fetch(results, path=the_path)"
   ]
  }
 ],
 "metadata": {
  "kernelspec": {
   "display_name": ".venv",
   "language": "python",
   "name": "python3"
  },
  "language_info": {
   "codemirror_mode": {
    "name": "ipython",
    "version": 3
   },
   "file_extension": ".py",
   "mimetype": "text/x-python",
   "name": "python",
   "nbconvert_exporter": "python",
   "pygments_lexer": "ipython3",
   "version": "3.12.6"
  }
 },
 "nbformat": 4,
 "nbformat_minor": 2
}
