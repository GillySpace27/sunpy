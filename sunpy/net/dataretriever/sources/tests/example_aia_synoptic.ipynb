{
 "cells": [
  {
   "cell_type": "code",
   "execution_count": 1,
   "metadata": {},
   "outputs": [
    {
     "name": "stderr",
     "output_type": "stream",
     "text": [
      "/Users/cgilbert/vscode/sunpy/sunpy/.venv/lib/python3.12/site-packages/tqdm/auto.py:21: TqdmWarning: IProgress not found. Please update jupyter and ipywidgets. See https://ipywidgets.readthedocs.io/en/stable/user_install.html\n",
      "  from .autonotebook import tqdm as notebook_tqdm\n"
     ]
    }
   ],
   "source": [
    "from sunpy.net import Fido\n",
    "from sunpy.net import attrs as a\n",
    "import astropy.units as u"
   ]
  },
  {
   "cell_type": "code",
   "execution_count": 2,
   "metadata": {},
   "outputs": [
    {
     "name": "stderr",
     "output_type": "stream",
     "text": [
      "WARNING: SunpyDeprecationWarning: pattern has been replaced with the format keyword. This comes with a new syntax and there is a migration guide available at https://docs.sunpy.org/en/stable/how_to/scraper_migration.html. [sunpy.net.dataretriever.client]\n",
      "2024-10-18 13:21:33 - sunpy - WARNING: SunpyDeprecationWarning: pattern has been replaced with the format keyword. This comes with a new syntax and there is a migration guide available at https://docs.sunpy.org/en/stable/how_to/scraper_migration.html.\n"
     ]
    },
    {
     "name": "stdout",
     "output_type": "stream",
     "text": [
      "Results from 1 Provider:\n",
      "\n",
      "12964 Results from the AIASynopticClient:\n",
      "Source: https://jsoc1.stanford.edu/data/aia/synoptic/\n",
      "\n",
      "       Start Time               End Time        ... Resolution Wavelength\n",
      "----------------------- ----------------------- ... ---------- ----------\n",
      "2013-10-30 00:00:00.000 2013-10-30 00:00:59.999 ...   SYNOPTIC         94\n",
      "2013-10-30 00:00:00.000 2013-10-30 00:00:59.999 ...   SYNOPTIC        131\n",
      "2013-10-30 00:00:00.000 2013-10-30 00:00:59.999 ...   SYNOPTIC        171\n",
      "2013-10-30 00:00:00.000 2013-10-30 00:00:59.999 ...   SYNOPTIC        193\n",
      "2013-10-30 00:00:00.000 2013-10-30 00:00:59.999 ...   SYNOPTIC        211\n",
      "2013-10-30 00:00:00.000 2013-10-30 00:00:59.999 ...   SYNOPTIC        304\n",
      "2013-10-30 00:00:00.000 2013-10-30 00:00:59.999 ...   SYNOPTIC        335\n",
      "2013-10-30 00:00:00.000 2013-10-30 00:00:59.999 ...   SYNOPTIC       1600\n",
      "2013-10-30 00:00:00.000 2013-10-30 00:00:59.999 ...   SYNOPTIC       4500\n",
      "2013-10-30 00:02:00.000 2013-10-30 00:02:59.999 ...   SYNOPTIC         94\n",
      "                    ...                     ... ...        ...        ...\n",
      "2013-10-31 23:58:00.000 2013-10-31 23:58:59.999 ...   SYNOPTIC       1700\n",
      "2013-11-01 00:00:00.000 2013-11-01 00:00:59.999 ...   SYNOPTIC         94\n",
      "2013-11-01 00:00:00.000 2013-11-01 00:00:59.999 ...   SYNOPTIC        131\n",
      "2013-11-01 00:00:00.000 2013-11-01 00:00:59.999 ...   SYNOPTIC        171\n",
      "2013-11-01 00:00:00.000 2013-11-01 00:00:59.999 ...   SYNOPTIC        193\n",
      "2013-11-01 00:00:00.000 2013-11-01 00:00:59.999 ...   SYNOPTIC        211\n",
      "2013-11-01 00:00:00.000 2013-11-01 00:00:59.999 ...   SYNOPTIC        304\n",
      "2013-11-01 00:00:00.000 2013-11-01 00:00:59.999 ...   SYNOPTIC        335\n",
      "2013-11-01 00:00:00.000 2013-11-01 00:00:59.999 ...   SYNOPTIC       1600\n",
      "2013-11-01 00:00:00.000 2013-11-01 00:00:59.999 ...   SYNOPTIC       4500\n",
      "Length = 12964 rows\n",
      "\n",
      "\n"
     ]
    }
   ],
   "source": [
    "# Example usage\n",
    "time_range = a.Time(\"2013-10-30 00:00:00\", \"2013-11-01 00:00:00\")\n",
    "instrument = a.Instrument(\"AIASynoptic\")\n",
    "wavelength = a.Wavelength(171 * u.angstrom)\n",
    "# sample = a.Sample(10 * u.minute)\n",
    "results = Fido.search(time_range, instrument, wavelength)  # , wavelength)\n",
    "\n",
    "print(results)\n",
    "\n"
   ]
  },
  {
   "cell_type": "code",
   "execution_count": 2,
   "metadata": {},
   "outputs": [
    {
     "name": "stdout",
     "output_type": "stream",
     "text": [
      "Downloading to: /Users/cgilbert/vscode/DLData/Halloween/{file}\n"
     ]
    }
   ],
   "source": [
    "import os\n",
    "the_path = \"~/vscode/DLData/Halloween/{file}\"\n",
    "the_path = os.path.expanduser(the_path)\n",
    "print(f\"Downloading to: {the_path}\")\n"
   ]
  },
  {
   "cell_type": "code",
   "execution_count": null,
   "metadata": {},
   "outputs": [],
   "source": [
    "Fido.fetch(results, path=the_path)"
   ]
  }
 ],
 "metadata": {
  "kernelspec": {
   "display_name": ".venv",
   "language": "python",
   "name": "python3"
  },
  "language_info": {
   "codemirror_mode": {
    "name": "ipython",
    "version": 3
   },
   "file_extension": ".py",
   "mimetype": "text/x-python",
   "name": "python",
   "nbconvert_exporter": "python",
   "pygments_lexer": "ipython3",
   "version": "3.12.6"
  }
 },
 "nbformat": 4,
 "nbformat_minor": 2
}
