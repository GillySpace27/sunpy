{
 "cells": [
  {
   "cell_type": "code",
   "execution_count": 1,
   "metadata": {},
   "outputs": [],
   "source": [
    "from sunpy.net import Fido\n",
    "from sunpy.net import attrs as a\n",
    "import astropy.units as u"
   ]
  },
  {
   "cell_type": "code",
   "execution_count": 2,
   "metadata": {},
   "outputs": [
    {
     "name": "stdout",
     "output_type": "stream",
     "text": [
      "Results from 1 Provider:\n",
      "\n",
      "122 Results from the AIASynopticClient:\n",
      "Source: https://jsoc1.stanford.edu/data/aia/synoptic/\n",
      "\n",
      "     Start Time           End Time      Instrument ... ExtentType Wavelength\n",
      "------------------- ------------------- ---------- ... ---------- ----------\n",
      "2013-10-20 00:00:00 2013-10-20 00:01:59        AIA ...   synoptic      171 Å\n",
      "2013-11-19 00:00:00 2013-11-19 00:01:59        AIA ...   synoptic      171 Å\n",
      "2013-12-19 00:00:00 2013-12-19 00:01:59        AIA ...   synoptic      171 Å\n",
      "2014-01-18 00:00:00 2014-01-18 00:01:59        AIA ...   synoptic      171 Å\n",
      "2014-02-17 00:00:00 2014-02-17 00:01:59        AIA ...   synoptic      171 Å\n",
      "2014-03-19 00:00:00 2014-03-19 00:01:59        AIA ...   synoptic      171 Å\n",
      "2014-04-18 00:00:00 2014-04-18 00:01:59        AIA ...   synoptic      171 Å\n",
      "2014-05-18 00:00:00 2014-05-18 00:01:59        AIA ...   synoptic      171 Å\n",
      "2014-06-17 00:00:00 2014-06-17 00:01:59        AIA ...   synoptic      171 Å\n",
      "2014-07-17 00:00:00 2014-07-17 00:01:59        AIA ...   synoptic      171 Å\n",
      "                ...                 ...        ... ...        ...        ...\n",
      "2023-01-01 00:00:00 2023-01-01 00:01:59        AIA ...   synoptic      171 Å\n",
      "2023-01-31 00:00:00 2023-01-31 00:01:59        AIA ...   synoptic      171 Å\n",
      "2023-03-02 00:00:00 2023-03-02 00:01:59        AIA ...   synoptic      171 Å\n",
      "2023-04-01 00:00:00 2023-04-01 00:01:59        AIA ...   synoptic      171 Å\n",
      "2023-05-01 00:00:00 2023-05-01 00:01:59        AIA ...   synoptic      171 Å\n",
      "2023-05-31 00:00:00 2023-05-31 00:01:59        AIA ...   synoptic      171 Å\n",
      "2023-06-30 00:00:00 2023-06-30 00:01:59        AIA ...   synoptic      171 Å\n",
      "2023-07-30 00:00:00 2023-07-30 00:01:59        AIA ...   synoptic      171 Å\n",
      "2023-08-29 00:00:00 2023-08-29 00:01:59        AIA ...   synoptic      171 Å\n",
      "2023-09-28 00:00:00 2023-09-28 00:01:59        AIA ...   synoptic      171 Å\n",
      "Length = 122 rows\n",
      "\n",
      "\n"
     ]
    }
   ],
   "source": [
    "# Example usage\n",
    "time_range = a.Time(\"2013-10-20 00:00:00\", \"2023-10-21 00:00:00\")\n",
    "instrument = a.Instrument(\"AIA\")\n",
    "wavelength = a.Wavelength(171 * u.angstrom)\n",
    "sample = a.Sample(30*u.day)  #TBD\n",
    "results = Fido.search(time_range, instrument, wavelength, sample, a.Level(\"synoptic\"))  #, sample)\n",
    "print(results)"
   ]
  },
  {
   "cell_type": "code",
   "execution_count": null,
   "metadata": {},
   "outputs": [],
   "source": [
    "import os\n",
    "the_path = \"~/data/decade/{file}\"\n",
    "the_path = os.path.expanduser(the_path)\n"
   ]
  },
  {
   "cell_type": "code",
   "execution_count": 4,
   "metadata": {},
   "outputs": [],
   "source": [
    "# Fido.fetch(results, path=the_path)"
   ]
  }
 ],
 "metadata": {
  "kernelspec": {
   "display_name": ".venv",
   "language": "python",
   "name": "python3"
  },
  "language_info": {
   "codemirror_mode": {
    "name": "ipython",
    "version": 3
   },
   "file_extension": ".py",
   "mimetype": "text/x-python",
   "name": "python",
   "nbconvert_exporter": "python",
   "pygments_lexer": "ipython3",
   "version": "3.12.6"
  }
 },
 "nbformat": 4,
 "nbformat_minor": 2
}
