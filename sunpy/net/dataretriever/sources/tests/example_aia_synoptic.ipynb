{
 "cells": [
  {
   "cell_type": "code",
   "execution_count": 2,
   "metadata": {},
   "outputs": [],
   "source": [
    "from sunpy.net import Fido\n",
    "from sunpy.net import attrs as a\n",
    "import astropy.units as u"
   ]
  },
  {
   "cell_type": "code",
   "execution_count": 3,
   "metadata": {},
   "outputs": [
    {
     "name": "stdout",
     "output_type": "stream",
     "text": [
      "Results from 1 Provider:\n",
      "\n",
      "31 Results from the AIASynopticClient:\n",
      "Source: https://jsoc1.stanford.edu/data/aia/synoptic/\n",
      "\n",
      "       Start Time               End Time         Instrument ... Level Wavelength\n",
      "----------------------- ----------------------- ----------- ... ----- ----------\n",
      "2023-10-11 00:00:00.000 2023-10-11 00:00:59.999 AIASYNOPTIC ...   1.5        193\n",
      "2023-10-11 00:02:00.000 2023-10-11 00:02:59.999 AIASYNOPTIC ...   1.5        193\n",
      "2023-10-11 00:04:00.000 2023-10-11 00:04:59.999 AIASYNOPTIC ...   1.5        193\n",
      "2023-10-11 00:06:00.000 2023-10-11 00:06:59.999 AIASYNOPTIC ...   1.5        193\n",
      "2023-10-11 00:08:00.000 2023-10-11 00:08:59.999 AIASYNOPTIC ...   1.5        193\n",
      "2023-10-11 00:10:00.000 2023-10-11 00:10:59.999 AIASYNOPTIC ...   1.5        193\n",
      "2023-10-11 00:12:00.000 2023-10-11 00:12:59.999 AIASYNOPTIC ...   1.5        193\n",
      "2023-10-11 00:14:00.000 2023-10-11 00:14:59.999 AIASYNOPTIC ...   1.5        193\n",
      "2023-10-11 00:16:00.000 2023-10-11 00:16:59.999 AIASYNOPTIC ...   1.5        193\n",
      "2023-10-11 00:18:00.000 2023-10-11 00:18:59.999 AIASYNOPTIC ...   1.5        193\n",
      "                    ...                     ...         ... ...   ...        ...\n",
      "2023-10-11 00:42:00.000 2023-10-11 00:42:59.999 AIASYNOPTIC ...   1.5        193\n",
      "2023-10-11 00:44:00.000 2023-10-11 00:44:59.999 AIASYNOPTIC ...   1.5        193\n",
      "2023-10-11 00:46:00.000 2023-10-11 00:46:59.999 AIASYNOPTIC ...   1.5        193\n",
      "2023-10-11 00:48:00.000 2023-10-11 00:48:59.999 AIASYNOPTIC ...   1.5        193\n",
      "2023-10-11 00:50:00.000 2023-10-11 00:50:59.999 AIASYNOPTIC ...   1.5        193\n",
      "2023-10-11 00:52:00.000 2023-10-11 00:52:59.999 AIASYNOPTIC ...   1.5        193\n",
      "2023-10-11 00:54:00.000 2023-10-11 00:54:59.999 AIASYNOPTIC ...   1.5        193\n",
      "2023-10-11 00:56:00.000 2023-10-11 00:56:59.999 AIASYNOPTIC ...   1.5        193\n",
      "2023-10-11 00:58:00.000 2023-10-11 00:58:59.999 AIASYNOPTIC ...   1.5        193\n",
      "2023-10-11 01:00:00.000 2023-10-11 01:00:59.999 AIASYNOPTIC ...   1.5        193\n",
      "Length = 31 rows\n",
      "\n",
      "\n"
     ]
    }
   ],
   "source": [
    "# Example usage\n",
    "time_range = a.Time(\"2023-10-11 00:00:00\", \"2023-10-11 01:00:00\")\n",
    "instrument = a.Instrument(\"AIASynoptic\")\n",
    "wavelength = a.Wavelength(193 * u.angstrom)\n",
    "sample = a.Sample(10 * u.minute)\n",
    "results = Fido.search(time_range, instrument, wavelength)  # , sample)  # , wavelength)\n",
    "\n",
    "print(results)\n",
    "\n"
   ]
  },
  {
   "cell_type": "code",
   "execution_count": 12,
   "metadata": {},
   "outputs": [
    {
     "name": "stdout",
     "output_type": "stream",
     "text": [
      "Downloading to: /Users/cgilbert/vscode/DLData/{file}\n"
     ]
    }
   ],
   "source": [
    "import os\n",
    "the_path = \"~/vscode/DLData/{file}\"\n",
    "the_path = os.path.expanduser(the_path)\n",
    "print(f\"Downloading to: {the_path}\")\n"
   ]
  },
  {
   "cell_type": "code",
   "execution_count": 1,
   "metadata": {},
   "outputs": [
    {
     "ename": "NameError",
     "evalue": "name 'Fido' is not defined",
     "output_type": "error",
     "traceback": [
      "\u001b[0;31m---------------------------------------------------------------------------\u001b[0m",
      "\u001b[0;31mNameError\u001b[0m                                 Traceback (most recent call last)",
      "Cell \u001b[0;32mIn[1], line 1\u001b[0m\n\u001b[0;32m----> 1\u001b[0m \u001b[43mFido\u001b[49m\u001b[38;5;241m.\u001b[39mfetch(results, path\u001b[38;5;241m=\u001b[39mthe_path)\n",
      "\u001b[0;31mNameError\u001b[0m: name 'Fido' is not defined"
     ]
    }
   ],
   "source": [
    "Fido.fetch(results, path=the_path)"
   ]
  }
 ],
 "metadata": {
  "kernelspec": {
   "display_name": ".venv",
   "language": "python",
   "name": "python3"
  },
  "language_info": {
   "codemirror_mode": {
    "name": "ipython",
    "version": 3
   },
   "file_extension": ".py",
   "mimetype": "text/x-python",
   "name": "python",
   "nbconvert_exporter": "python",
   "pygments_lexer": "ipython3",
   "version": "3.12.6"
  }
 },
 "nbformat": 4,
 "nbformat_minor": 2
}
